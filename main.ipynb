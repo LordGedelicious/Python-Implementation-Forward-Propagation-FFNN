{
 "cells": [
  {
   "cell_type": "code",
   "execution_count": 1,
   "metadata": {},
   "outputs": [],
   "source": [
    "# Tugas Besar IF3270 Pembelajaran Mesin\n",
    "# Anggota Kelompok:\n",
    "# 1. Gede Prasidha Bhawarnawa - 13520004\n",
    "# 2. Shadiq Harwiz - 13520038\n",
    "# 3. Dwi Kalam Amal Tauhid - 13519210\n",
    "# 4. Rahmat Rafid Akbar - 13520090\n",
    "\n",
    "# Section Tugas Besar A: Implementasi Forward Propagation untuk Feed Forward Neural Network (FFNN)\n",
    "\n",
    "# Import necessary libraries\n",
    "import numpy as np"
   ]
  },
  {
   "cell_type": "code",
   "execution_count": 2,
   "metadata": {},
   "outputs": [],
   "source": [
    "# Softmax Activation Function Implementation\n",
    "def softmax(arr):\n",
    "    numerator = np.exp(arr)\n",
    "    denominator = np.sum(numerator)\n",
    "    return numerator / denominator"
   ]
  },
  {
   "cell_type": "code",
   "execution_count": 3,
   "metadata": {},
   "outputs": [],
   "source": [
    "# Sigmoid Activation Function Implementation\n",
    "def sigmoid(arr):\n",
    "    numerator = np.exp(arr)\n",
    "    denominator = numerator + 1\n",
    "    return numerator / denominator"
   ]
  },
  {
   "cell_type": "code",
   "execution_count": 4,
   "metadata": {},
   "outputs": [],
   "source": [
    "# Linear Activation Function Implementation\n",
    "def linear(arr):\n",
    "    return arr"
   ]
  },
  {
   "cell_type": "code",
   "execution_count": 5,
   "metadata": {},
   "outputs": [],
   "source": [
    "# Rectified Linear Unit (ReLU) Activation Function Implementation\n",
    "def relu(arr):\n",
    "    for i in range(len(arr)):\n",
    "        if arr[i] < 0:\n",
    "            arr[i] = 0\n",
    "    return arr"
   ]
  },
  {
   "cell_type": "code",
   "execution_count": 6,
   "metadata": {},
   "outputs": [],
   "source": [
    "# Format for the model input\n",
    "# number_of_layers = INT\n",
    "# number_of_nodes = INT\n",
    "# loop (\n",
    "# node_number, node_level, activation_function, weight\n",
    "# )\n",
    "# bias_1_weight,bias_2_weight,...,bias_n_weight\n",
    "\n",
    "# By default, bias is 1 and automatically added to the model without the need to be specified in the text input\n",
    "# The number of nodes does not include the bias node in each layer\n",
    "# The number of bias weights is equal to the number of layers\n",
    "\n",
    "# Example:\n",
    "# 2\n",
    "# 3\n",
    "# node(1, 1, sigmoid, 0.1)\n",
    "# node(2, 1, relu, 0.3)\n",
    "# node(3, 2, linear, 0.5)\n",
    "# 0.4,0.2"
   ]
  },
  {
   "cell_type": "code",
   "execution_count": 19,
   "metadata": {},
   "outputs": [],
   "source": [
    "# Node Class and Instances\n",
    "class Node:\n",
    "    def __init__(self, node_number:int, node_level, activation_function, weight):\n",
    "        self.node_number = node_number\n",
    "        self.node_level = node_level\n",
    "        self.activation_function = activation_function\n",
    "        self.weight = weight\n",
    "        self.output = 0\n",
    "        self.error = 0\n",
    "    \n",
    "    def getNodeNumber(self):\n",
    "        return self.node_number\n",
    "    \n",
    "    def getNodeLevel(self):\n",
    "        return self.node_level\n",
    "    \n",
    "    def getActivationFunction(self):\n",
    "        functionList = {\n",
    "            1: sigmoid,\n",
    "            2: relu,\n",
    "            3: linear,\n",
    "            4: softmax,\n",
    "            5: bias\n",
    "        }\n",
    "        return functionList.get(self.activation_function, -1)\n",
    "    \n",
    "    def getWeight(self):\n",
    "        return self.weight\n",
    "    \n",
    "    def getNodeInfo(self):\n",
    "        print(\"Node Number: \", self.node_number)\n",
    "        print(\"Node Level: \", self.node_level)\n",
    "        print(\"Activation Function: \", self.activation_function)\n",
    "        print(\"Weight: \", self.weight)\n",
    "        print()"
   ]
  },
  {
   "cell_type": "code",
   "execution_count": 8,
   "metadata": {},
   "outputs": [],
   "source": [
    "class Model:\n",
    "    def __init__(self, number_of_layers:int, number_of_nodes:int, nodes:list):\n",
    "        self.number_of_layers = number_of_layers\n",
    "        self.number_of_nodes = number_of_nodes\n",
    "        self.nodes = nodes # We assume that bias are also nodes of value 1\n",
    "    \n",
    "    def getNumberOfLayers(self):\n",
    "        return self.number_of_layers\n",
    "    \n",
    "    def getNumberOfNodes(self):\n",
    "        return self.number_of_nodes\n",
    "    \n",
    "    def getNodeList(self):\n",
    "        return self.nodes\n",
    "    \n",
    "    def getNodeByIndex(self, index):\n",
    "        return self.nodes[index]\n",
    "    \n",
    "    def getNodeByLevel(self, layer):\n",
    "        nodes = []\n",
    "        for node in self.nodes:\n",
    "            if node.getNodeLevel() == layer:\n",
    "                nodes.append(node)\n",
    "        return nodes"
   ]
  },
  {
   "cell_type": "code",
   "execution_count": 22,
   "metadata": {},
   "outputs": [
    {
     "name": "stdout",
     "output_type": "stream",
     "text": [
      "Node Number:  1\n",
      "Node Level:  1\n",
      "Activation Function:  relu\n",
      "Weight:  0.3\n",
      "\n",
      "Node Number:  2\n",
      "Node Level:  1\n",
      "Activation Function:  sigmoid\n",
      "Weight:  0.1\n",
      "\n",
      "Node Number:  3\n",
      "Node Level:  2\n",
      "Activation Function:  linear\n",
      "Weight:  0.5\n",
      "\n",
      "Node Number:  4\n",
      "Node Level:  2\n",
      "Activation Function:  softmax\n",
      "Weight:  0.7\n",
      "\n",
      "Node Number:  5\n",
      "Node Level:  2\n",
      "Activation Function:  relu\n",
      "Weight:  0.4\n",
      "\n",
      "Node Number:  6\n",
      "Node Level:  0\n",
      "Activation Function:  bias\n",
      "Weight:  0.2\n",
      "\n",
      "Node Number:  7\n",
      "Node Level:  1\n",
      "Activation Function:  bias\n",
      "Weight:  0.2\n",
      "\n"
     ]
    }
   ],
   "source": [
    "# File reader and parser\n",
    "from itertools import islice\n",
    "import re\n",
    "def readFile(filename):\n",
    "    nodes =[]\n",
    "    with open(filename, 'r') as f:\n",
    "        contents = f.readlines()\n",
    "        f.close()\n",
    "    number_of_layers = int(contents[0])\n",
    "    number_of_nodes = int(contents[1])\n",
    "    for i in range(2, number_of_nodes + 2):\n",
    "        node_info = contents[i].split(\",\")\n",
    "        node = Node(int(node_info[0]), int(node_info[1]), node_info[2], float(node_info[3]))\n",
    "        nodes.append(node)\n",
    "    bias_weights = contents[number_of_nodes + 2].split(\",\")\n",
    "    for layer in range(number_of_layers):\n",
    "        number_of_nodes += 1\n",
    "        node = Node(number_of_nodes, layer + 1, \"bias\", float(bias_weights[layer]))\n",
    "        nodes.append(node)\n",
    "    for node in nodes:\n",
    "        node.getNodeInfo()\n",
    "    \n",
    "readFile('model1.txt')\n",
    "    "
   ]
  },
  {
   "cell_type": "code",
   "execution_count": null,
   "metadata": {},
   "outputs": [],
   "source": []
  }
 ],
 "metadata": {
  "kernelspec": {
   "display_name": "Python 3",
   "language": "python",
   "name": "python3"
  },
  "language_info": {
   "codemirror_mode": {
    "name": "ipython",
    "version": 3
   },
   "file_extension": ".py",
   "mimetype": "text/x-python",
   "name": "python",
   "nbconvert_exporter": "python",
   "pygments_lexer": "ipython3",
   "version": "3.9.12"
  },
  "orig_nbformat": 4
 },
 "nbformat": 4,
 "nbformat_minor": 2
}
