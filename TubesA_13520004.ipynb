{
 "cells": [
  {
   "cell_type": "code",
   "execution_count": 1,
   "metadata": {},
   "outputs": [],
   "source": [
    "# Tugas Besar IF3270 Pembelajaran Mesin\n",
    "# Anggota Kelompok:\n",
    "# 1. Gede Prasidha Bhawarnawa - 13520004\n",
    "\n",
    "# Section Tugas Besar A: Implementasi Forward Propagation untuk Feed Forward Neural Network (FFNN)\n",
    "\n",
    "# Import necessary libraries\n",
    "import numpy as np\n",
    "import networkx as nx\n",
    "import matplotlib.pyplot as plt\n",
    "import pandas as pd\n",
    "import math\n",
    "from itertools import islice\n",
    "import re\n",
    "import sys"
   ]
  },
  {
   "cell_type": "code",
   "execution_count": 2,
   "metadata": {},
   "outputs": [],
   "source": [
    "# Softmax Activation Function Implementation\n",
    "def softmax(arr):\n",
    "    arr = np.array(arr)\n",
    "    arr = np.exp(arr)\n",
    "    sum_arr = np.sum(arr)\n",
    "    return arr/sum_arr"
   ]
  },
  {
   "cell_type": "code",
   "execution_count": 3,
   "metadata": {},
   "outputs": [],
   "source": [
    "# Sigmoid Activation Function Implementation\n",
    "def sigmoid(arr):\n",
    "    numerator = np.exp(arr)\n",
    "    denominator = numerator + 1\n",
    "    return numerator / denominator"
   ]
  },
  {
   "cell_type": "code",
   "execution_count": 4,
   "metadata": {},
   "outputs": [],
   "source": [
    "# Linear Activation Function Implementation\n",
    "def linear(arr):\n",
    "    return arr"
   ]
  },
  {
   "cell_type": "code",
   "execution_count": 5,
   "metadata": {},
   "outputs": [],
   "source": [
    "# Rectified Linear Unit (ReLU) Activation Function Implementation\n",
    "def relu(val):\n",
    "    if val < 0:\n",
    "        return 0\n",
    "    else:\n",
    "        return val"
   ]
  },
  {
   "cell_type": "code",
   "execution_count": 6,
   "metadata": {},
   "outputs": [],
   "source": [
    "def countSSError(results, expected_results):\n",
    "    results = np.array(results)\n",
    "    expected_results = np.array(expected_results)\n",
    "    if results.shape != expected_results.shape:\n",
    "        print(\"Error: array shape mismatch\")\n",
    "        sys.exit(1)\n",
    "    else:\n",
    "        return np.sum(np.square(results - expected_results))"
   ]
  },
  {
   "cell_type": "code",
   "execution_count": 7,
   "metadata": {},
   "outputs": [],
   "source": [
    "# Format for the model input:\n",
    "\n",
    "# number_of_layers(INT)\n",
    "# number_of_nodes_in_layer_1(INT)\n",
    "# number_of_nodes_in_layer_2(INT)\n",
    "# ...\n",
    "# number_of_nodes_in_layer_n(INT)\n",
    "# number_of_output_nodes(INT)\n",
    "# loop for all nodes except output (\n",
    "# node_number, node_type, node_level, node_value, activation_function, node_weight_1, node_weight_2, ..., node_weight_n\n",
    "# )\n",
    "# Expected output\n",
    "# Maximum error in the form of sum of squared error (SSE)\n",
    "\n",
    "# Number of layers doesn't include the input layer and the output layer\n",
    "# There are four node_types: bias, input, hidden, output\n",
    "# If the node_type is bias, then the node_value must be 1 or the program will exit with error message. It's activation function doesn't matter\n",
    "# If the node_type is input, then the node_value must be the input value and the node_level must be 0. It's activation function doesn't matter\n",
    "# If the node_type is hidden, then the node_value doesn't matter and the node_level must be greater than 0. It's activation function matters\n",
    "# If the node_type is output, then the node_value doesn't matter and the node_level must be greater than 0. It's activation function matters\n",
    "# All counts start from 0, including the node_level and node_numbering\n",
    "# The activation_function must be one of the following: linear, sigmoid, relu, softmax\n",
    "# The number of node_weights declared in each node must be the same as the number of nodes in the next layer/level\n",
    "# Note: For each node information, DO NOT USE WHITESPACES\n",
    "\n",
    "# Example for linear model:\n",
    "\n",
    "# 0\n",
    "# 0,bias,0,1,,3:0.2,4:0.3,5:0.1\n",
    "# 1,input,0,0,,3:0.5,4:0.2,5:-0.8\n",
    "# 2,input,0,0,,3:0.3,4:-0.6,5:0.4\n",
    "# 3,output,1,0,linear,\n",
    "# 4,output,1,0,linear,\n",
    "# 5,output,1,0,linear,\n",
    "# [2.0,0.3,-1.9]\n",
    "# 0.000001"
   ]
  },
  {
   "cell_type": "code",
   "execution_count": 8,
   "metadata": {},
   "outputs": [],
   "source": [
    "# Node Class and Instances\n",
    "class Node:\n",
    "    def __init__(self, node_number, node_type, node_level, activation_function, weight, node_value=0):\n",
    "        self.node_number = node_number\n",
    "        self.node_type = node_type\n",
    "        self.node_value = node_value # For non-input nodes, this value is 0\n",
    "        self.node_level = node_level\n",
    "        self.activation_function = activation_function\n",
    "        self.weight = weight\n",
    "        self.output = 0\n",
    "        self.error = 0\n",
    "    \n",
    "    def getNodeNumber(self):\n",
    "        return self.node_number\n",
    "    \n",
    "    def getNodeType(self):\n",
    "        return self.node_type\n",
    "    \n",
    "    def getNodeValue(self):\n",
    "        return self.node_value\n",
    "    \n",
    "    def setNodeValue(self, node_value):\n",
    "        self.node_value = node_value\n",
    "    \n",
    "    def getNodeLevel(self):\n",
    "        return self.node_level\n",
    "    \n",
    "    def getActivationFunction(self):\n",
    "        return self.activation_function\n",
    "    \n",
    "    def getActivationFunctionValue(self, value):\n",
    "        if self.activation_function == \"linear\":\n",
    "            return linear(value)\n",
    "        elif self.activation_function == \"sigmoid\":\n",
    "            return sigmoid(value)\n",
    "        elif self.activation_function == \"relu\":\n",
    "            return relu(value)\n",
    "        else: # Uses softmax\n",
    "            return softmax(value)\n",
    "    \n",
    "    def getWeight(self):\n",
    "        return self.weight\n",
    "    \n",
    "    def getStrWeight(self):\n",
    "        return str(self.weight)\n",
    "    \n",
    "    def getNextLayerNodeNumbers(self, nodes):\n",
    "        next_layer_nodes = []\n",
    "        for node in nodes:\n",
    "            if node.getNodeLevel() == self.node_level + 1:\n",
    "                next_layer_nodes.append(node.getNodeNumber())\n",
    "        return next_layer_nodes"
   ]
  },
  {
   "cell_type": "code",
   "execution_count": 9,
   "metadata": {},
   "outputs": [],
   "source": [
    "class Model:\n",
    "    def __init__(self, number_of_layers:int, number_of_nodes:int, nodes:list, expected_results:list, max_sse:float):\n",
    "        self.number_of_layers = number_of_layers\n",
    "        self.number_of_nodes = number_of_nodes\n",
    "        self.nodes = nodes # We assume that bias are also nodes of value 1\n",
    "        self.expected_results = expected_results\n",
    "        self.max_sse = max_sse\n",
    "    \n",
    "    def getNumberOfLayers(self):\n",
    "        return self.number_of_layers\n",
    "    \n",
    "    def getNumberOfNodes(self):\n",
    "        return self.number_of_nodes\n",
    "    \n",
    "    def getNodeList(self):\n",
    "        return self.nodes\n",
    "    \n",
    "    def getNodeByIndex(self, index):\n",
    "        return self.nodes[index]\n",
    "    \n",
    "    def setNodeValueByIndex(self, index, node_value):\n",
    "        self.nodes[index].setNodeValue(node_value)\n",
    "    \n",
    "    def getNodeByLevel(self, layer):\n",
    "        nodes = []\n",
    "        for node in self.nodes:\n",
    "            if node.getNodeLevel() == layer:\n",
    "                nodes.append(node)\n",
    "        return nodes\n",
    "    \n",
    "    def getExpectedResults(self):\n",
    "        return self.expected_results\n",
    "    \n",
    "    def getMaxSSE(self):\n",
    "        return self.max_sse\n",
    "\n",
    "    def getModelInfo(self):\n",
    "        print(\"Number of Layers: \", self.number_of_layers)\n",
    "        print(\"Number of Nodes: \", self.number_of_nodes) # Bias is also counted as a node here\n",
    "        print(\"Nodes: \")\n",
    "        for node in self.nodes:\n",
    "            node.getNodeInfo()\n",
    "    \n",
    "    def printModelSummary(self):\n",
    "        print(\"Model Summary:\")\n",
    "        print(\"---------------------------------------------------\")\n",
    "        print(\"{:^10} | {:^10} | {:^10} | {:^10} | {:^10}\".format(\"Node Number\", \"Node Type\", \"Layer Depth\", \"Activation Function\", \"Weight\"))\n",
    "        for level in range(0,self.number_of_layers+2):\n",
    "            nodes = self.getNodeByLevel(level)\n",
    "            for node in nodes:\n",
    "                print(\"{:^10d} | {:^10s} | {:^10d} | {:^10s} | {:^10s}\".format(\n",
    "                    node.getNodeNumber(), node.getNodeType(), node.getNodeLevel(), node.getActivationFunction(), node.getStrWeight()))\n",
    "        print(\"---------------------------------------------------\")\n",
    "        print(\"Expected Results: \", str(self.expected_results))\n",
    "        print(\"Max SSE: \", self.max_sse)\n",
    "    \n",
    "    def getInputNodeNumbers(self):\n",
    "        input_nodes = []\n",
    "        for node in self.nodes:\n",
    "            if node.getNodeLevel() == 0 and node.getNodeType() == \"input\":\n",
    "                input_nodes.append(node.getNodeNumber())\n",
    "        return input_nodes\n",
    "    \n",
    "    def getOutputNodeValues(self):\n",
    "        output_nodes = []\n",
    "        for node in self.nodes:\n",
    "            if node.getNodeLevel() == self.number_of_layers + 1:\n",
    "                output_nodes.append(node.getNodeValue())\n",
    "        return output_nodes\n",
    "    \n",
    "    def printModelVisualization(self):\n",
    "        edge_list = []\n",
    "        layer_dict = {}\n",
    "        for node in self.nodes:\n",
    "            next_layer_nodes = node.getNextLayerNodeNumbers(self.nodes)\n",
    "            for next_layer_node in next_layer_nodes:\n",
    "                if self.getNodeByIndex(next_layer_node).getNodeType() == \"bias\":\n",
    "                    pass\n",
    "                else:\n",
    "                    edge_pair = (node.getNodeNumber(), next_layer_node)\n",
    "                    if edge_pair not in edge_list:\n",
    "                        edge_list.append(edge_pair)\n",
    "            layer_dict[node.getNodeNumber()] = node.getNodeLevel()\n",
    "        G = nx.Graph(edge_list)\n",
    "        nx.set_node_attributes(G, layer_dict, \"layer\")\n",
    "        pos = nx.multipartite_layout(G, subset_key=\"layer\", align=\"vertical\")\n",
    "        nx.draw(G, pos=pos,with_labels=True, node_size=1000, node_color='skyblue', font_size=10, font_color='white', font_weight='bold')\n",
    "        plt.title(\"Feed-forward Neural Network Model Representation\")\n",
    "        plt.show()"
   ]
  },
  {
   "cell_type": "code",
   "execution_count": 10,
   "metadata": {},
   "outputs": [],
   "source": [
    "def readFile(filename):\n",
    "    nodes =[]\n",
    "    with open(filename, 'r') as f:\n",
    "        contents = f.readlines()\n",
    "        f.close()\n",
    "    number_of_layers = int(contents[0])\n",
    "    node_counts = []\n",
    "    for idx in range(1, number_of_layers+1):\n",
    "        node_counts.append(int(contents[idx]))\n",
    "    number_of_nodes = sum(node_counts)\n",
    "    for idx in range(number_of_layers+1, len(contents) - 2):\n",
    "        node_info = contents[idx].split(',')\n",
    "        node_number = int(node_info[0])\n",
    "        node_type = node_info[1]\n",
    "        node_level = int(node_info[2])\n",
    "        node_value = float(node_info[3])\n",
    "        activation_function = node_info[4]\n",
    "        # weight = [float(x) for x in node_info[5:]]\n",
    "        if node_type != 'output':\n",
    "            weights = {}\n",
    "            for weight in node_info[5:]:\n",
    "                weight_info = weight.split(':')\n",
    "                weights[int(weight_info[0])] = float(weight_info[1])\n",
    "        else:\n",
    "            weights = {}\n",
    "        condition1 = node_type == 'bias' and node_value == 1\n",
    "        condition2 = node_type == 'input' and node_level == 0\n",
    "        condition3 = node_type == 'hidden' and node_level > 0\n",
    "        condition4 = node_type == 'output' and node_level == number_of_layers + 1 \n",
    "        if condition1 or condition2 or condition3 or condition4:\n",
    "            nodes.append(Node(node_number, node_type, node_level, activation_function, weights, node_value))\n",
    "        else:\n",
    "            print(\"Invalid node information found in line: \", idx + 1)\n",
    "            sys.exit(1)\n",
    "    expected_results = eval(contents[-2])\n",
    "    max_sse = float(contents[-1])\n",
    "    result = Model(number_of_layers, number_of_nodes, nodes, expected_results, max_sse)\n",
    "    # result.getModelInfo()\n",
    "    result.printModelSummary()\n",
    "    result.printModelVisualization()\n",
    "    return result\n",
    "    "
   ]
  },
  {
   "cell_type": "code",
   "execution_count": 11,
   "metadata": {},
   "outputs": [],
   "source": [
    "def inferenceData(model_src_name, data_src_name):\n",
    "    model = readFile(model_src_name)\n",
    "    # Fill all input nodes with values and then feed the values to the nodes of the next layer\n",
    "    input_nodes = model.getInputNodeNumbers()\n",
    "    data = np.genfromtxt(data_src_name, delimiter=',')\n",
    "\n",
    "    if np.array(data).ndim == 1:\n",
    "        if len(data) != len(input_nodes):\n",
    "            print(\"Number of input nodes and number of features are not equal\")\n",
    "            sys.exit(1)\n",
    "            \n",
    "        for idx in range(len(data)):\n",
    "            model.setNodeValueByIndex(input_nodes[idx], data[idx])\n",
    "\n",
    "        for layer in range(0, model.getNumberOfLayers()+1):\n",
    "            # Get all nodes in the layer and then one by one feed the values to the next layer\n",
    "            # At first the values will be based purely on the node's values and its weights\n",
    "            # Then it will be passed to the activation function to get the final value\n",
    "            nodes = model.getNodeByLevel(layer)\n",
    "            next_node_values = {}\n",
    "            for node in nodes:\n",
    "                for next_node_key in node.getWeight().keys():\n",
    "                    if next_node_key not in next_node_values.keys():\n",
    "                        next_node_values[next_node_key] = node.getWeight()[next_node_key] * node.getNodeValue()\n",
    "                    else:\n",
    "                        next_node_values[next_node_key] += node.getWeight()[next_node_key] * node.getNodeValue()\n",
    "            isSoftmax = False\n",
    "            for next_node_key in next_node_values.keys():\n",
    "                next_node = model.getNodeByIndex(next_node_key)\n",
    "                next_node_value = next_node_values[next_node_key]\n",
    "                if next_node.getActivationFunction() != \"softmax\" and not isSoftmax:\n",
    "                    isSoftmax = False\n",
    "                    next_node_value = next_node.getActivationFunctionValue(next_node_value)\n",
    "                    next_node.setNodeValue(next_node_value)\n",
    "                    next_node_values[next_node_key] = next_node_value\n",
    "                else:\n",
    "                    next_node.setNodeValue(next_node_value)\n",
    "                    next_node_values[next_node_key] = next_node_value\n",
    "                    isSoftmax = True\n",
    "            if isSoftmax:\n",
    "                # Process all nodes in the layer and then feed the values to that same layer\n",
    "                process_layer = layer + 1\n",
    "                nodes = model.getNodeByLevel(process_layer)\n",
    "                node_numbers_in_order = []\n",
    "                node_values_in_order = []\n",
    "                nodes_new_value_pair_key = {}\n",
    "                for node in nodes:\n",
    "                    node_numbers_in_order.append(node.getNodeNumber())\n",
    "                    node_values_in_order.append(node.getNodeValue())\n",
    "                    nodes_new_value_pair_key[node.getNodeNumber()] = 0\n",
    "                node_values_in_order = softmax(node_values_in_order)\n",
    "                for idx in range(len(node_values_in_order)):\n",
    "                    nodes_new_value_pair_key[node_numbers_in_order[idx]] = node_values_in_order[idx]\n",
    "                for node in nodes:\n",
    "                    if node.getNodeNumber() in nodes_new_value_pair_key.keys():\n",
    "                        node.setNodeValue(nodes_new_value_pair_key[node.getNodeNumber()])\n",
    "        final_results = model.getOutputNodeValues()\n",
    "        print(\"Raw final results: \", [x.tolist() for x in np.array(final_results)])\n",
    "        # Compare the results with the expected results\n",
    "        expected_results = model.getExpectedResults()\n",
    "        print(\"Expected results: \", expected_results)\n",
    "        print(\"Max SSE: \", model.getMaxSSE(), \", SSE: \", countSSError(final_results, expected_results))\n",
    "        if countSSError(final_results, expected_results) <= model.getMaxSSE():\n",
    "            print(\"The model is valid as the error is less than or the same as the maximum SSE\")\n",
    "        else:\n",
    "            print(\"The model is invalid as the error is more than the maximum SSE\")\n",
    "    else: # 2 dimensional data\n",
    "        final_results = []\n",
    "        for arr in data:\n",
    "            if len(arr) != len(input_nodes):\n",
    "                print(\"Number of input nodes and number of features are not equal\")\n",
    "                sys.exit(1)\n",
    "                \n",
    "            for idx in range(len(arr)):\n",
    "                model.setNodeValueByIndex(input_nodes[idx], arr[idx])\n",
    "\n",
    "            for layer in range(0, model.getNumberOfLayers()+1):\n",
    "                # Get all nodes in the layer and then one by one feed the values to the next layer\n",
    "                # At first the values will be based purely on the node's values and its weights\n",
    "                # Then it will be passed to the activation function to get the final value\n",
    "                nodes = model.getNodeByLevel(layer)\n",
    "                next_node_values = {}\n",
    "                for node in nodes:\n",
    "                    for next_node_key in node.getWeight().keys():\n",
    "                        if next_node_key not in next_node_values.keys():\n",
    "                            next_node_values[next_node_key] = node.getWeight()[next_node_key] * node.getNodeValue()\n",
    "                        else:\n",
    "                            next_node_values[next_node_key] += node.getWeight()[next_node_key] * node.getNodeValue()\n",
    "                isSoftmax = False\n",
    "                for next_node_key in next_node_values.keys():\n",
    "                    next_node = model.getNodeByIndex(next_node_key)\n",
    "                    next_node_value = next_node_values[next_node_key]\n",
    "                    if next_node.getActivationFunction() != \"softmax\" and not isSoftmax:\n",
    "                        isSoftmax = False\n",
    "                        next_node_value = next_node.getActivationFunctionValue(next_node_value)\n",
    "                        next_node.setNodeValue(next_node_value)\n",
    "                        next_node_values[next_node_key] = next_node_value\n",
    "                    else:\n",
    "                        next_node.setNodeValue(next_node_value)\n",
    "                        next_node_values[next_node_key] = next_node_value\n",
    "                        isSoftmax = True\n",
    "                if isSoftmax:\n",
    "                    # Process all nodes in the layer and then feed the values to that same layer\n",
    "                    process_layer = layer + 1\n",
    "                    nodes = model.getNodeByLevel(process_layer)\n",
    "                    node_numbers_in_order = []\n",
    "                    node_values_in_order = []\n",
    "                    nodes_new_value_pair_key = {}\n",
    "                    for node in nodes:\n",
    "                        node_numbers_in_order.append(node.getNodeNumber())\n",
    "                        node_values_in_order.append(node.getNodeValue())\n",
    "                        nodes_new_value_pair_key[node.getNodeNumber()] = 0\n",
    "                    node_values_in_order = softmax(node_values_in_order)\n",
    "                    for idx in range(len(node_values_in_order)):\n",
    "                        nodes_new_value_pair_key[node_numbers_in_order[idx]] = node_values_in_order[idx]\n",
    "                    for node in nodes:\n",
    "                        if node.getNodeNumber() in nodes_new_value_pair_key.keys():\n",
    "                            node.setNodeValue(nodes_new_value_pair_key[node.getNodeNumber()])\n",
    "            final_results.append(model.getOutputNodeValues())\n",
    "        print(\"Raw final results: \", [x.tolist() for x in np.array(final_results)])\n",
    "        # Compare the results with the expected results\n",
    "        expected_results = model.getExpectedResults()\n",
    "        print(\"Expected results: \", expected_results)\n",
    "        print(\"Max SSE: \", model.getMaxSSE(), \", SSE: \", countSSError(final_results, expected_results))\n",
    "        if countSSError(final_results, expected_results) <= model.getMaxSSE():\n",
    "            print(\"The model is valid as the error is less than or the same as the maximum SSE\")\n",
    "        else:\n",
    "            print(\"The model is invalid as the error is more than the maximum SSE\")\n",
    "\n"
   ]
  },
  {
   "cell_type": "code",
   "execution_count": 12,
   "metadata": {},
   "outputs": [
    {
     "name": "stdout",
     "output_type": "stream",
     "text": [
      "Model Summary:\n",
      "---------------------------------------------------\n",
      "Node Number | Node Type  | Layer Depth | Activation Function |   Weight  \n",
      "    0      |    bias    |     0      |            | {3: 0.2, 4: 0.3, 5: 0.1}\n",
      "    1      |   input    |     0      |            | {3: 0.5, 4: 0.2, 5: -0.8}\n",
      "    2      |   input    |     0      |            | {3: 0.3, 4: -0.6, 5: 0.4}\n",
      "    3      |   output   |     1      |   linear   |     {}    \n",
      "    4      |   output   |     1      |   linear   |     {}    \n",
      "    5      |   output   |     1      |   linear   |     {}    \n",
      "---------------------------------------------------\n",
      "Expected Results:  [2.0, 0.3, -1.9]\n",
      "Max SSE:  1e-06\n"
     ]
    },
    {
     "data": {
      "image/png": "[encoded data removed]",
      "text/plain": [
       "<Figure size 432x288 with 1 Axes>"
      ]
     },
     "metadata": {},
     "output_type": "display_data"
    },
    {
     "name": "stdout",
     "output_type": "stream",
     "text": [
      "Raw final results:  [2.0, 0.30000000000000016, -1.9000000000000004]\n",
      "Expected results:  [2.0, 0.3, -1.9]\n",
      "Max SSE:  1e-06 , SSE:  2.2494861750442915e-31\n",
      "The model is valid as the error is less than or the same as the maximum SSE\n"
     ]
    }
   ],
   "source": [
    "# For linear data and FFNN model\n",
    "model_src_name = \"linearModel.txt\"\n",
    "data_src_name = \"linearData.csv\"\n",
    "inferenceData(model_src_name, data_src_name)"
   ]
  },
  {
   "cell_type": "code",
   "execution_count": 13,
   "metadata": {},
   "outputs": [
    {
     "name": "stdout",
     "output_type": "stream",
     "text": [
      "Model Summary:\n",
      "---------------------------------------------------\n",
      "Node Number | Node Type  | Layer Depth | Activation Function |   Weight  \n",
      "    0      |    bias    |     0      |            | {3: 0.1, 4: 0.2, 5: 0.3}\n",
      "    1      |   input    |     0      |            | {3: 0.4, 4: -0.5, 5: 0.6}\n",
      "    2      |   input    |     0      |            | {3: 0.7, 4: 0.8, 5: -0.9}\n",
      "    3      |   output   |     1      |    relu    |     {}    \n",
      "    4      |   output   |     1      |    relu    |     {}    \n",
      "    5      |   output   |     1      |    relu    |     {}    \n",
      "---------------------------------------------------\n",
      "Expected Results:  [0.05, 1.1, 0.0]\n",
      "Max SSE:  1e-06\n"
     ]
    },
    {
     "data": {
      "image/png": "[encoded data removed]",
      "text/plain": [
       "<Figure size 432x288 with 1 Axes>"
      ]
     },
     "metadata": {},
     "output_type": "display_data"
    },
    {
     "name": "stdout",
     "output_type": "stream",
     "text": [
      "Raw final results:  [0.04999999999999993, 1.1, 0.0]\n",
      "Expected results:  [0.05, 1.1, 0.0]\n",
      "Max SSE:  1e-06 , SSE:  4.8148248609680896e-33\n",
      "The model is valid as the error is less than or the same as the maximum SSE\n"
     ]
    }
   ],
   "source": [
    "# For ReLU data and FFNN model\n",
    "model_src_name = \"reluModel.txt\"\n",
    "data_src_name = \"reluData.csv\"\n",
    "inferenceData(model_src_name, data_src_name)"
   ]
  },
  {
   "cell_type": "code",
   "execution_count": 14,
   "metadata": {},
   "outputs": [
    {
     "name": "stdout",
     "output_type": "stream",
     "text": [
      "Model Summary:\n",
      "---------------------------------------------------\n",
      "Node Number | Node Type  | Layer Depth | Activation Function |   Weight  \n",
      "    0      |    bias    |     0      |            | {3: 0.4, 4: 0.2, 5: 0.1}\n",
      "    1      |   input    |     0      |            | {3: 0.2, 4: 0.4, 5: 0.2}\n",
      "    2      |   input    |     0      |            | {3: 0.1, 4: 0.2, 5: 0.4}\n",
      "    3      |   output   |     1      |  sigmoid   |     {}    \n",
      "    4      |   output   |     1      |  sigmoid   |     {}    \n",
      "    5      |   output   |     1      |  sigmoid   |     {}    \n",
      "---------------------------------------------------\n",
      "Expected Results:  [0.617747, 0.58904, 0.574442]\n",
      "Max SSE:  1e-06\n"
     ]
    },
    {
     "data": {
      "image/png": "[encoded data removed]",
      "text/plain": [
       "<Figure size 432x288 with 1 Axes>"
      ]
     },
     "metadata": {},
     "output_type": "display_data"
    },
    {
     "name": "stdout",
     "output_type": "stream",
     "text": [
      "Raw final results:  [0.617747874769249, 0.5890404340586651, 0.574442516811659]\n",
      "Expected results:  [0.617747, 0.58904, 0.574442]\n",
      "Max SSE:  1e-06 , SSE:  1.2207224545374987e-12\n",
      "The model is valid as the error is less than or the same as the maximum SSE\n"
     ]
    }
   ],
   "source": [
    "# For sigmoid data and FFNN model\n",
    "model_src_name = \"sigmoidModel.txt\"\n",
    "data_src_name = \"sigmoidData.csv\"\n",
    "inferenceData(model_src_name, data_src_name)"
   ]
  },
  {
   "cell_type": "code",
   "execution_count": 15,
   "metadata": {},
   "outputs": [
    {
     "name": "stdout",
     "output_type": "stream",
     "text": [
      "Model Summary:\n",
      "---------------------------------------------------\n",
      "Node Number | Node Type  | Layer Depth | Activation Function |   Weight  \n",
      "    0      |    bias    |     0      |            | {3: 1.0, 4: 2.0, 5: 3.0}\n",
      "    1      |   input    |     0      |            | {3: 2.0, 4: 1.0, 5: 3.0}\n",
      "    2      |   input    |     0      |            | {3: 3.0, 4: 2.0, 5: 1.0}\n",
      "    3      |   output   |     1      |  softmax   |     {}    \n",
      "    4      |   output   |     1      |  softmax   |     {}    \n",
      "    5      |   output   |     1      |  softmax   |     {}    \n",
      "---------------------------------------------------\n",
      "Expected Results:  [0.665241, 0.090031, 0.244728]\n",
      "Max SSE:  1e-06\n"
     ]
    },
    {
     "data": {
      "image/png": "[encoded data removed]",
      "text/plain": [
       "<Figure size 432x288 with 1 Axes>"
      ]
     },
     "metadata": {},
     "output_type": "display_data"
    },
    {
     "name": "stdout",
     "output_type": "stream",
     "text": [
      "Raw final results:  [0.6652409557748219, 0.09003057317038045, 0.24472847105479764]\n",
      "Expected results:  [0.665241, 0.090031, 0.244728]\n",
      "Max SSE:  1e-06 , SSE:  4.0603201288236806e-13\n",
      "The model is valid as the error is less than or the same as the maximum SSE\n"
     ]
    }
   ],
   "source": [
    "# For softmax data and FFNN model\n",
    "model_src_name = \"softmaxModel.txt\"\n",
    "data_src_name = \"softmaxData.csv\"\n",
    "inferenceData(model_src_name, data_src_name)"
   ]
  },
  {
   "cell_type": "code",
   "execution_count": 16,
   "metadata": {},
   "outputs": [
    {
     "name": "stdout",
     "output_type": "stream",
     "text": [
      "Model Summary:\n",
      "---------------------------------------------------\n",
      "Node Number | Node Type  | Layer Depth | Activation Function |   Weight  \n",
      "    0      |    bias    |     0      |            | {4: 0.5, 5: 0.5}\n",
      "    1      |   input    |     0      |            | {4: 0.0, 5: -2.0}\n",
      "    2      |   input    |     0      |            | {4: -1.0, 5: 0.0}\n",
      "    3      |    bias    |     1      |            | {6: 0.5, 7: 0.5}\n",
      "    4      |   hidden   |     1      |   linear   | {6: 0.0, 7: -3.0}\n",
      "    5      |   hidden   |     1      |   linear   | {6: -1.0, 7: 0.0}\n",
      "    6      |   output   |     2      |    relu    |     {}    \n",
      "    7      |   output   |     2      |    relu    |     {}    \n",
      "---------------------------------------------------\n",
      "Expected Results:  [[2.0, 0.0], [0.0, 2.0], [0.0, 0.0]]\n",
      "Max SSE:  1e-06\n"
     ]
    },
    {
     "data": {
      "image/png": "[encoded data removed]",
      "text/plain": [
       "<Figure size 432x288 with 1 Axes>"
      ]
     },
     "metadata": {},
     "output_type": "display_data"
    },
    {
     "name": "stdout",
     "output_type": "stream",
     "text": [
      "Raw final results:  [[2.0, 0.0], [0.0, 2.0], [0.0, 0.0]]\n",
      "Expected results:  [[2.0, 0.0], [0.0, 2.0], [0.0, 0.0]]\n",
      "Max SSE:  1e-06 , SSE:  0.0\n",
      "The model is valid as the error is less than or the same as the maximum SSE\n"
     ]
    }
   ],
   "source": [
    "# For multilayer data and FFNN model\n",
    "model_src_name = \"multilayerModel.txt\"\n",
    "data_src_name = \"multilayerData.csv\"\n",
    "inferenceData(model_src_name, data_src_name)"
   ]
  }
 ],
 "metadata": {
  "kernelspec": {
   "display_name": "Python 3",
   "language": "python",
   "name": "python3"
  },
  "language_info": {
   "codemirror_mode": {
    "name": "ipython",
    "version": 3
   },
   "file_extension": ".py",
   "mimetype": "text/x-python",
   "name": "python",
   "nbconvert_exporter": "python",
   "pygments_lexer": "ipython3",
   "version": "3.9.12"
  },
  "orig_nbformat": 4
 },
 "nbformat": 4,
 "nbformat_minor": 2
}
