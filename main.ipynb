{
 "cells": [
  {
   "cell_type": "code",
   "execution_count": 2,
   "metadata": {},
   "outputs": [],
   "source": [
    "# Tugas Besar IF3270 Pembelajaran Mesin\n",
    "# Anggota Kelompok:\n",
    "# 1. Gede Prasidha Bhawarnawa - 13520004\n",
    "# 2. Shadiq Harwiz - 13520038\n",
    "# 3. Dwi Kalam Amal Tauhid - 13519210\n",
    "# 4. Rahmat Rafid Akbar - 13520090\n",
    "\n",
    "# Section Tugas Besar A: Implementasi Forward Propagation untuk Feed Forward Neural Network (FFNN)\n",
    "\n",
    "# Import necessary libraries\n",
    "import numpy as np"
   ]
  },
  {
   "cell_type": "code",
   "execution_count": 3,
   "metadata": {},
   "outputs": [],
   "source": [
    "# Softmax Activation Function Implementation\n",
    "def softmax(arr):\n",
    "    numerator = np.exp(arr)\n",
    "    denominator = np.sum(numerator)\n",
    "    return numerator / denominator"
   ]
  },
  {
   "cell_type": "code",
   "execution_count": 4,
   "metadata": {},
   "outputs": [],
   "source": [
    "# Sigmoid Activation Function Implementation\n",
    "def sigmoid(arr):\n",
    "    numerator = np.exp(arr)\n",
    "    denominator = numerator + 1\n",
    "    return numerator / denominator"
   ]
  },
  {
   "cell_type": "code",
   "execution_count": 5,
   "metadata": {},
   "outputs": [],
   "source": [
    "# Linear Activation Function Implementation\n",
    "def linear(arr):\n",
    "    return arr"
   ]
  },
  {
   "cell_type": "code",
   "execution_count": 7,
   "metadata": {},
   "outputs": [
    {
     "name": "stdout",
     "output_type": "stream",
     "text": [
      "[0 2 3 4 5]\n",
      "[0 2 3 4 5]\n"
     ]
    }
   ],
   "source": [
    "# Rectified Linear Unit (ReLU) Activation Function Implementation\n",
    "def relu(arr):\n",
    "    for i in range(len(arr)):\n",
    "        if arr[i] < 0:\n",
    "            arr[i] = 0\n",
    "    return arr\n",
    "\n",
    "arr = np.array([-1, 2, 3, 4, 5])\n",
    "print(arr)\n",
    "arr2 = relu(arr)\n",
    "print(arr2)"
   ]
  }
 ],
 "metadata": {
  "kernelspec": {
   "display_name": "Python 3",
   "language": "python",
   "name": "python3"
  },
  "language_info": {
   "codemirror_mode": {
    "name": "ipython",
    "version": 3
   },
   "file_extension": ".py",
   "mimetype": "text/x-python",
   "name": "python",
   "nbconvert_exporter": "python",
   "pygments_lexer": "ipython3",
   "version": "3.9.12"
  },
  "orig_nbformat": 4
 },
 "nbformat": 4,
 "nbformat_minor": 2
}
